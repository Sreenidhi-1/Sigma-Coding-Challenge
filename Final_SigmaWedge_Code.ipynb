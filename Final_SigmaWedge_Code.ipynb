{
  "cells": [
    {
      "cell_type": "markdown",
      "id": "e0f6afd2-04c0-4a61-a6cf-bc1c19872cad",
      "metadata": {
        "id": "e0f6afd2-04c0-4a61-a6cf-bc1c19872cad",
        "tags": []
      },
      "source": [
        "# **SIGMA WEDGE CODING CHALLENGE**"
      ]
    },
    {
      "cell_type": "markdown",
      "id": "c4097d83-4e11-4b3d-bb7f-76b41789814b",
      "metadata": {
        "id": "c4097d83-4e11-4b3d-bb7f-76b41789814b"
      },
      "source": [
        "*To activate Quantrocket set up the license key*"
      ]
    },
    {
      "cell_type": "code",
      "execution_count": null,
      "id": "24807470-5112-4fea-a63c-e8011d62005b",
      "metadata": {
        "id": "24807470-5112-4fea-a63c-e8011d62005b",
        "tags": [],
        "outputId": "f6d3c2ed-b239-473b-f667-c59004bce2a6"
      },
      "outputs": [
        {
          "data": {
            "text/plain": [
              "{'licensekey': 'e7dc........ea83', 'software_license': {}}"
            ]
          },
          "execution_count": 1,
          "metadata": {},
          "output_type": "execute_result"
        }
      ],
      "source": [
        "from quantrocket.license import set_license\n",
        "set_license(\"e7dc7429-dde5-11ee-a0f7-276dcf33ea83\")"
      ]
    },
    {
      "cell_type": "code",
      "execution_count": null,
      "id": "c4116885-2946-4bcf-b309-e7be1a2665dd",
      "metadata": {
        "id": "c4116885-2946-4bcf-b309-e7be1a2665dd",
        "tags": [],
        "outputId": "292a92e0-efda-41ea-819a-923376cb8718"
      },
      "outputs": [
        {
          "data": {
            "text/plain": [
              "{'licensekey': 'e7dc........ea83', 'software_license': {}}"
            ]
          },
          "execution_count": 2,
          "metadata": {},
          "output_type": "execute_result"
        }
      ],
      "source": [
        "from quantrocket.license import get_license_profile\n",
        "get_license_profile()"
      ]
    },
    {
      "cell_type": "markdown",
      "id": "210717e0-8c26-4fa8-988c-7ec56cbc4b9f",
      "metadata": {
        "id": "210717e0-8c26-4fa8-988c-7ec56cbc4b9f",
        "tags": []
      },
      "source": [
        "### **DATA COLLECTION**"
      ]
    },
    {
      "cell_type": "markdown",
      "id": "8e38bb0a-66b3-4a73-884b-62b66679049a",
      "metadata": {
        "id": "8e38bb0a-66b3-4a73-884b-62b66679049a",
        "tags": []
      },
      "source": [
        "*Pulled price data (daily close prices only) for Apple stock (sid='AAPL') for the year 2023 (01-01-2023 to 12-31-2023) from freely available us-stock price data.*"
      ]
    },
    {
      "cell_type": "code",
      "execution_count": null,
      "id": "65d7e551-5808-49fd-b561-14ae50f744ee",
      "metadata": {
        "id": "65d7e551-5808-49fd-b561-14ae50f744ee",
        "tags": [],
        "outputId": "29768957-ff45-405b-b5d0-71ca9e439767"
      },
      "outputs": [
        {
          "data": {
            "text/plain": [
              "{'status': 'success', 'msg': 'already up-to-date'}"
            ]
          },
          "execution_count": 3,
          "metadata": {},
          "output_type": "execute_result"
        }
      ],
      "source": [
        "from quantrocket.master import collect_usstock_listings\n",
        "collect_usstock_listings()"
      ]
    },
    {
      "cell_type": "code",
      "execution_count": null,
      "id": "76296276-872d-4230-8be8-5c2031c6dd12",
      "metadata": {
        "id": "76296276-872d-4230-8be8-5c2031c6dd12",
        "tags": [],
        "outputId": "055c9c2a-adc3-4f2c-8886-d4a0ccd779a4"
      },
      "outputs": [
        {
          "data": {
            "text/html": [
              "<div>\n",
              "<style scoped>\n",
              "    .dataframe tbody tr th:only-of-type {\n",
              "        vertical-align: middle;\n",
              "    }\n",
              "\n",
              "    .dataframe tbody tr th {\n",
              "        vertical-align: top;\n",
              "    }\n",
              "\n",
              "    .dataframe thead th {\n",
              "        text-align: right;\n",
              "    }\n",
              "</style>\n",
              "<table border=\"1\" class=\"dataframe\">\n",
              "  <thead>\n",
              "    <tr style=\"text-align: right;\">\n",
              "      <th></th>\n",
              "      <th>Symbol</th>\n",
              "      <th>Exchange</th>\n",
              "    </tr>\n",
              "    <tr>\n",
              "      <th>Sid</th>\n",
              "      <th></th>\n",
              "      <th></th>\n",
              "    </tr>\n",
              "  </thead>\n",
              "  <tbody>\n",
              "    <tr>\n",
              "      <th>FIBBG000B9XRY4</th>\n",
              "      <td>AAPL</td>\n",
              "      <td>XNAS</td>\n",
              "    </tr>\n",
              "  </tbody>\n",
              "</table>\n",
              "</div>"
            ],
            "text/plain": [
              "               Symbol Exchange\n",
              "Sid                           \n",
              "FIBBG000B9XRY4   AAPL     XNAS"
            ]
          },
          "execution_count": 4,
          "metadata": {},
          "output_type": "execute_result"
        }
      ],
      "source": [
        "from quantrocket.master import get_securities\n",
        "securities = get_securities(symbols='AAPL', fields=['Sid', 'Symbol', 'Exchange'], vendors='usstock')\n",
        "securities"
      ]
    },
    {
      "cell_type": "code",
      "execution_count": null,
      "id": "27e0c72e-8827-4b6e-a3ee-ae617d3deac4",
      "metadata": {
        "id": "27e0c72e-8827-4b6e-a3ee-ae617d3deac4",
        "tags": [],
        "outputId": "660c42c1-5006-4d2f-c1c7-dc62a21aa45c"
      },
      "outputs": [
        {
          "data": {
            "text/plain": [
              "{'status': 'success', 'msg': 'successfully created aapl-usstock1 bundle'}"
            ]
          },
          "execution_count": 8,
          "metadata": {},
          "output_type": "execute_result"
        }
      ],
      "source": [
        "from quantrocket.zipline import create_usstock_bundle\n",
        "create_usstock_bundle(\"aapl-usstock1\",free=True)"
      ]
    },
    {
      "cell_type": "code",
      "execution_count": null,
      "id": "11ef2e69-ec9d-4114-96c7-abf3b9d2855b",
      "metadata": {
        "id": "11ef2e69-ec9d-4114-96c7-abf3b9d2855b",
        "tags": [],
        "outputId": "1eded808-9dda-40bc-c061-c08bb7785f1d"
      },
      "outputs": [
        {
          "data": {
            "text/plain": [
              "{'status': 'the data will be ingested asynchronously'}"
            ]
          },
          "execution_count": 9,
          "metadata": {},
          "output_type": "execute_result"
        }
      ],
      "source": [
        "from quantrocket.zipline import ingest_bundle\n",
        "ingest_bundle(\"aapl-usstock1\")"
      ]
    },
    {
      "cell_type": "code",
      "execution_count": null,
      "id": "d989736c-f2b2-42f7-91c8-a67e4fc9fd56",
      "metadata": {
        "id": "d989736c-f2b2-42f7-91c8-a67e4fc9fd56",
        "tags": []
      },
      "outputs": [],
      "source": [
        "from quantrocket import get_prices\n",
        "data=get_prices('aapl-usstock1', data_frequency='daily', sids=\"FIBBG000B9XRY4\", start_date='2023-01-01', end_date='2023-12-31',fields=\"Close\")"
      ]
    },
    {
      "cell_type": "code",
      "execution_count": null,
      "id": "73b5d67a-8fb9-45b8-b046-bf04e41b4eac",
      "metadata": {
        "id": "73b5d67a-8fb9-45b8-b046-bf04e41b4eac",
        "tags": []
      },
      "outputs": [],
      "source": [
        "from quantrocket.zipline import download_bundle_file\n",
        "download_bundle_file(\"aapl-usstock1\", data_frequency=\"daily\",\n",
        "                         sids=\"FIBBG000B9XRY4\",\n",
        "                         start_date=\"2023-01-01\", end_date=\"2023-12-31\",fields=\"Close\",\n",
        "                         filepath_or_buffer=\"usstock_aapl.csv\")\n"
      ]
    },
    {
      "cell_type": "code",
      "execution_count": null,
      "id": "RPCJJUwgvv4Y",
      "metadata": {
        "colab": {
          "base_uri": "https://localhost:8080/",
          "height": 423
        },
        "id": "RPCJJUwgvv4Y",
        "outputId": "0f6c671a-5c1e-490a-9f84-ad0fc216e7dd"
      },
      "outputs": [
        {
          "output_type": "execute_result",
          "data": {
            "text/plain": [
              "     Field        Date  FIBBG000B9XRY4\n",
              "0    Close  2023-01-03         124.375\n",
              "1    Close  2023-01-04         125.658\n",
              "2    Close  2023-01-05         124.325\n",
              "3    Close  2023-01-06         128.900\n",
              "4    Close  2023-01-09         129.427\n",
              "..     ...         ...             ...\n",
              "245  Close  2023-12-22         193.600\n",
              "246  Close  2023-12-26         193.050\n",
              "247  Close  2023-12-27         193.150\n",
              "248  Close  2023-12-28         193.580\n",
              "249  Close  2023-12-29         192.530\n",
              "\n",
              "[250 rows x 3 columns]"
            ],
            "text/html": [
              "\n",
              "  <div id=\"df-75fa2169-d83e-417b-9bed-4f7a810e7c59\" class=\"colab-df-container\">\n",
              "    <div>\n",
              "<style scoped>\n",
              "    .dataframe tbody tr th:only-of-type {\n",
              "        vertical-align: middle;\n",
              "    }\n",
              "\n",
              "    .dataframe tbody tr th {\n",
              "        vertical-align: top;\n",
              "    }\n",
              "\n",
              "    .dataframe thead th {\n",
              "        text-align: right;\n",
              "    }\n",
              "</style>\n",
              "<table border=\"1\" class=\"dataframe\">\n",
              "  <thead>\n",
              "    <tr style=\"text-align: right;\">\n",
              "      <th></th>\n",
              "      <th>Field</th>\n",
              "      <th>Date</th>\n",
              "      <th>FIBBG000B9XRY4</th>\n",
              "    </tr>\n",
              "  </thead>\n",
              "  <tbody>\n",
              "    <tr>\n",
              "      <th>0</th>\n",
              "      <td>Close</td>\n",
              "      <td>2023-01-03</td>\n",
              "      <td>124.375</td>\n",
              "    </tr>\n",
              "    <tr>\n",
              "      <th>1</th>\n",
              "      <td>Close</td>\n",
              "      <td>2023-01-04</td>\n",
              "      <td>125.658</td>\n",
              "    </tr>\n",
              "    <tr>\n",
              "      <th>2</th>\n",
              "      <td>Close</td>\n",
              "      <td>2023-01-05</td>\n",
              "      <td>124.325</td>\n",
              "    </tr>\n",
              "    <tr>\n",
              "      <th>3</th>\n",
              "      <td>Close</td>\n",
              "      <td>2023-01-06</td>\n",
              "      <td>128.900</td>\n",
              "    </tr>\n",
              "    <tr>\n",
              "      <th>4</th>\n",
              "      <td>Close</td>\n",
              "      <td>2023-01-09</td>\n",
              "      <td>129.427</td>\n",
              "    </tr>\n",
              "    <tr>\n",
              "      <th>...</th>\n",
              "      <td>...</td>\n",
              "      <td>...</td>\n",
              "      <td>...</td>\n",
              "    </tr>\n",
              "    <tr>\n",
              "      <th>245</th>\n",
              "      <td>Close</td>\n",
              "      <td>2023-12-22</td>\n",
              "      <td>193.600</td>\n",
              "    </tr>\n",
              "    <tr>\n",
              "      <th>246</th>\n",
              "      <td>Close</td>\n",
              "      <td>2023-12-26</td>\n",
              "      <td>193.050</td>\n",
              "    </tr>\n",
              "    <tr>\n",
              "      <th>247</th>\n",
              "      <td>Close</td>\n",
              "      <td>2023-12-27</td>\n",
              "      <td>193.150</td>\n",
              "    </tr>\n",
              "    <tr>\n",
              "      <th>248</th>\n",
              "      <td>Close</td>\n",
              "      <td>2023-12-28</td>\n",
              "      <td>193.580</td>\n",
              "    </tr>\n",
              "    <tr>\n",
              "      <th>249</th>\n",
              "      <td>Close</td>\n",
              "      <td>2023-12-29</td>\n",
              "      <td>192.530</td>\n",
              "    </tr>\n",
              "  </tbody>\n",
              "</table>\n",
              "<p>250 rows × 3 columns</p>\n",
              "</div>\n",
              "    <div class=\"colab-df-buttons\">\n",
              "\n",
              "  <div class=\"colab-df-container\">\n",
              "    <button class=\"colab-df-convert\" onclick=\"convertToInteractive('df-75fa2169-d83e-417b-9bed-4f7a810e7c59')\"\n",
              "            title=\"Convert this dataframe to an interactive table.\"\n",
              "            style=\"display:none;\">\n",
              "\n",
              "  <svg xmlns=\"http://www.w3.org/2000/svg\" height=\"24px\" viewBox=\"0 -960 960 960\">\n",
              "    <path d=\"M120-120v-720h720v720H120Zm60-500h600v-160H180v160Zm220 220h160v-160H400v160Zm0 220h160v-160H400v160ZM180-400h160v-160H180v160Zm440 0h160v-160H620v160ZM180-180h160v-160H180v160Zm440 0h160v-160H620v160Z\"/>\n",
              "  </svg>\n",
              "    </button>\n",
              "\n",
              "  <style>\n",
              "    .colab-df-container {\n",
              "      display:flex;\n",
              "      gap: 12px;\n",
              "    }\n",
              "\n",
              "    .colab-df-convert {\n",
              "      background-color: #E8F0FE;\n",
              "      border: none;\n",
              "      border-radius: 50%;\n",
              "      cursor: pointer;\n",
              "      display: none;\n",
              "      fill: #1967D2;\n",
              "      height: 32px;\n",
              "      padding: 0 0 0 0;\n",
              "      width: 32px;\n",
              "    }\n",
              "\n",
              "    .colab-df-convert:hover {\n",
              "      background-color: #E2EBFA;\n",
              "      box-shadow: 0px 1px 2px rgba(60, 64, 67, 0.3), 0px 1px 3px 1px rgba(60, 64, 67, 0.15);\n",
              "      fill: #174EA6;\n",
              "    }\n",
              "\n",
              "    .colab-df-buttons div {\n",
              "      margin-bottom: 4px;\n",
              "    }\n",
              "\n",
              "    [theme=dark] .colab-df-convert {\n",
              "      background-color: #3B4455;\n",
              "      fill: #D2E3FC;\n",
              "    }\n",
              "\n",
              "    [theme=dark] .colab-df-convert:hover {\n",
              "      background-color: #434B5C;\n",
              "      box-shadow: 0px 1px 3px 1px rgba(0, 0, 0, 0.15);\n",
              "      filter: drop-shadow(0px 1px 2px rgba(0, 0, 0, 0.3));\n",
              "      fill: #FFFFFF;\n",
              "    }\n",
              "  </style>\n",
              "\n",
              "    <script>\n",
              "      const buttonEl =\n",
              "        document.querySelector('#df-75fa2169-d83e-417b-9bed-4f7a810e7c59 button.colab-df-convert');\n",
              "      buttonEl.style.display =\n",
              "        google.colab.kernel.accessAllowed ? 'block' : 'none';\n",
              "\n",
              "      async function convertToInteractive(key) {\n",
              "        const element = document.querySelector('#df-75fa2169-d83e-417b-9bed-4f7a810e7c59');\n",
              "        const dataTable =\n",
              "          await google.colab.kernel.invokeFunction('convertToInteractive',\n",
              "                                                    [key], {});\n",
              "        if (!dataTable) return;\n",
              "\n",
              "        const docLinkHtml = 'Like what you see? Visit the ' +\n",
              "          '<a target=\"_blank\" href=https://colab.research.google.com/notebooks/data_table.ipynb>data table notebook</a>'\n",
              "          + ' to learn more about interactive tables.';\n",
              "        element.innerHTML = '';\n",
              "        dataTable['output_type'] = 'display_data';\n",
              "        await google.colab.output.renderOutput(dataTable, element);\n",
              "        const docLink = document.createElement('div');\n",
              "        docLink.innerHTML = docLinkHtml;\n",
              "        element.appendChild(docLink);\n",
              "      }\n",
              "    </script>\n",
              "  </div>\n",
              "\n",
              "\n",
              "<div id=\"df-2ca58ac1-9991-4771-b78e-3e041a39b2d3\">\n",
              "  <button class=\"colab-df-quickchart\" onclick=\"quickchart('df-2ca58ac1-9991-4771-b78e-3e041a39b2d3')\"\n",
              "            title=\"Suggest charts\"\n",
              "            style=\"display:none;\">\n",
              "\n",
              "<svg xmlns=\"http://www.w3.org/2000/svg\" height=\"24px\"viewBox=\"0 0 24 24\"\n",
              "     width=\"24px\">\n",
              "    <g>\n",
              "        <path d=\"M19 3H5c-1.1 0-2 .9-2 2v14c0 1.1.9 2 2 2h14c1.1 0 2-.9 2-2V5c0-1.1-.9-2-2-2zM9 17H7v-7h2v7zm4 0h-2V7h2v10zm4 0h-2v-4h2v4z\"/>\n",
              "    </g>\n",
              "</svg>\n",
              "  </button>\n",
              "\n",
              "<style>\n",
              "  .colab-df-quickchart {\n",
              "      --bg-color: #E8F0FE;\n",
              "      --fill-color: #1967D2;\n",
              "      --hover-bg-color: #E2EBFA;\n",
              "      --hover-fill-color: #174EA6;\n",
              "      --disabled-fill-color: #AAA;\n",
              "      --disabled-bg-color: #DDD;\n",
              "  }\n",
              "\n",
              "  [theme=dark] .colab-df-quickchart {\n",
              "      --bg-color: #3B4455;\n",
              "      --fill-color: #D2E3FC;\n",
              "      --hover-bg-color: #434B5C;\n",
              "      --hover-fill-color: #FFFFFF;\n",
              "      --disabled-bg-color: #3B4455;\n",
              "      --disabled-fill-color: #666;\n",
              "  }\n",
              "\n",
              "  .colab-df-quickchart {\n",
              "    background-color: var(--bg-color);\n",
              "    border: none;\n",
              "    border-radius: 50%;\n",
              "    cursor: pointer;\n",
              "    display: none;\n",
              "    fill: var(--fill-color);\n",
              "    height: 32px;\n",
              "    padding: 0;\n",
              "    width: 32px;\n",
              "  }\n",
              "\n",
              "  .colab-df-quickchart:hover {\n",
              "    background-color: var(--hover-bg-color);\n",
              "    box-shadow: 0 1px 2px rgba(60, 64, 67, 0.3), 0 1px 3px 1px rgba(60, 64, 67, 0.15);\n",
              "    fill: var(--button-hover-fill-color);\n",
              "  }\n",
              "\n",
              "  .colab-df-quickchart-complete:disabled,\n",
              "  .colab-df-quickchart-complete:disabled:hover {\n",
              "    background-color: var(--disabled-bg-color);\n",
              "    fill: var(--disabled-fill-color);\n",
              "    box-shadow: none;\n",
              "  }\n",
              "\n",
              "  .colab-df-spinner {\n",
              "    border: 2px solid var(--fill-color);\n",
              "    border-color: transparent;\n",
              "    border-bottom-color: var(--fill-color);\n",
              "    animation:\n",
              "      spin 1s steps(1) infinite;\n",
              "  }\n",
              "\n",
              "  @keyframes spin {\n",
              "    0% {\n",
              "      border-color: transparent;\n",
              "      border-bottom-color: var(--fill-color);\n",
              "      border-left-color: var(--fill-color);\n",
              "    }\n",
              "    20% {\n",
              "      border-color: transparent;\n",
              "      border-left-color: var(--fill-color);\n",
              "      border-top-color: var(--fill-color);\n",
              "    }\n",
              "    30% {\n",
              "      border-color: transparent;\n",
              "      border-left-color: var(--fill-color);\n",
              "      border-top-color: var(--fill-color);\n",
              "      border-right-color: var(--fill-color);\n",
              "    }\n",
              "    40% {\n",
              "      border-color: transparent;\n",
              "      border-right-color: var(--fill-color);\n",
              "      border-top-color: var(--fill-color);\n",
              "    }\n",
              "    60% {\n",
              "      border-color: transparent;\n",
              "      border-right-color: var(--fill-color);\n",
              "    }\n",
              "    80% {\n",
              "      border-color: transparent;\n",
              "      border-right-color: var(--fill-color);\n",
              "      border-bottom-color: var(--fill-color);\n",
              "    }\n",
              "    90% {\n",
              "      border-color: transparent;\n",
              "      border-bottom-color: var(--fill-color);\n",
              "    }\n",
              "  }\n",
              "</style>\n",
              "\n",
              "  <script>\n",
              "    async function quickchart(key) {\n",
              "      const quickchartButtonEl =\n",
              "        document.querySelector('#' + key + ' button');\n",
              "      quickchartButtonEl.disabled = true;  // To prevent multiple clicks.\n",
              "      quickchartButtonEl.classList.add('colab-df-spinner');\n",
              "      try {\n",
              "        const charts = await google.colab.kernel.invokeFunction(\n",
              "            'suggestCharts', [key], {});\n",
              "      } catch (error) {\n",
              "        console.error('Error during call to suggestCharts:', error);\n",
              "      }\n",
              "      quickchartButtonEl.classList.remove('colab-df-spinner');\n",
              "      quickchartButtonEl.classList.add('colab-df-quickchart-complete');\n",
              "    }\n",
              "    (() => {\n",
              "      let quickchartButtonEl =\n",
              "        document.querySelector('#df-2ca58ac1-9991-4771-b78e-3e041a39b2d3 button');\n",
              "      quickchartButtonEl.style.display =\n",
              "        google.colab.kernel.accessAllowed ? 'block' : 'none';\n",
              "    })();\n",
              "  </script>\n",
              "</div>\n",
              "    </div>\n",
              "  </div>\n"
            ],
            "application/vnd.google.colaboratory.intrinsic+json": {
              "type": "dataframe",
              "variable_name": "prices",
              "summary": "{\n  \"name\": \"prices\",\n  \"rows\": 250,\n  \"fields\": [\n    {\n      \"column\": \"Field\",\n      \"properties\": {\n        \"dtype\": \"category\",\n        \"num_unique_values\": 1,\n        \"samples\": [\n          \"Close\"\n        ],\n        \"semantic_type\": \"\",\n        \"description\": \"\"\n      }\n    },\n    {\n      \"column\": \"Date\",\n      \"properties\": {\n        \"dtype\": \"object\",\n        \"num_unique_values\": 250,\n        \"samples\": [\n          \"2023-07-28\"\n        ],\n        \"semantic_type\": \"\",\n        \"description\": \"\"\n      }\n    },\n    {\n      \"column\": \"FIBBG000B9XRY4\",\n      \"properties\": {\n        \"dtype\": \"number\",\n        \"std\": 17.50410472478501,\n        \"min\": 124.325,\n        \"max\": 198.11,\n        \"num_unique_values\": 246,\n        \"samples\": [\n          147.88\n        ],\n        \"semantic_type\": \"\",\n        \"description\": \"\"\n      }\n    }\n  ]\n}"
            }
          },
          "metadata": {},
          "execution_count": 1
        }
      ],
      "source": [
        "import pandas as pd\n",
        "prices=pd.read_csv('usstock_aapl.csv')\n",
        "prices"
      ]
    },
    {
      "cell_type": "code",
      "source": [
        "import pandas as pd\n",
        "prices=pd.read_csv('/content/file1.csv')"
      ],
      "metadata": {
        "id": "JKVjzFjvMKwU"
      },
      "id": "JKVjzFjvMKwU",
      "execution_count": 1,
      "outputs": []
    },
    {
      "cell_type": "code",
      "execution_count": 2,
      "id": "kn1Rwo0yZEHY",
      "metadata": {
        "colab": {
          "base_uri": "https://localhost:8080/",
          "height": 423
        },
        "id": "kn1Rwo0yZEHY",
        "outputId": "add1469d-2f6a-44b5-ad56-dc42593279e6"
      },
      "outputs": [
        {
          "output_type": "execute_result",
          "data": {
            "text/plain": [
              "           Date  Stock_price\n",
              "0    2023-01-03      124.375\n",
              "1    2023-01-04      125.658\n",
              "2    2023-01-05      124.325\n",
              "3    2023-01-06      128.900\n",
              "4    2023-01-09      129.427\n",
              "..          ...          ...\n",
              "245  2023-12-22      193.600\n",
              "246  2023-12-26      193.050\n",
              "247  2023-12-27      193.150\n",
              "248  2023-12-28      193.580\n",
              "249  2023-12-29      192.530\n",
              "\n",
              "[250 rows x 2 columns]"
            ],
            "text/html": [
              "\n",
              "  <div id=\"df-576b93fb-66d8-4c09-8801-34ab9c739b4f\" class=\"colab-df-container\">\n",
              "    <div>\n",
              "<style scoped>\n",
              "    .dataframe tbody tr th:only-of-type {\n",
              "        vertical-align: middle;\n",
              "    }\n",
              "\n",
              "    .dataframe tbody tr th {\n",
              "        vertical-align: top;\n",
              "    }\n",
              "\n",
              "    .dataframe thead th {\n",
              "        text-align: right;\n",
              "    }\n",
              "</style>\n",
              "<table border=\"1\" class=\"dataframe\">\n",
              "  <thead>\n",
              "    <tr style=\"text-align: right;\">\n",
              "      <th></th>\n",
              "      <th>Date</th>\n",
              "      <th>Stock_price</th>\n",
              "    </tr>\n",
              "  </thead>\n",
              "  <tbody>\n",
              "    <tr>\n",
              "      <th>0</th>\n",
              "      <td>2023-01-03</td>\n",
              "      <td>124.375</td>\n",
              "    </tr>\n",
              "    <tr>\n",
              "      <th>1</th>\n",
              "      <td>2023-01-04</td>\n",
              "      <td>125.658</td>\n",
              "    </tr>\n",
              "    <tr>\n",
              "      <th>2</th>\n",
              "      <td>2023-01-05</td>\n",
              "      <td>124.325</td>\n",
              "    </tr>\n",
              "    <tr>\n",
              "      <th>3</th>\n",
              "      <td>2023-01-06</td>\n",
              "      <td>128.900</td>\n",
              "    </tr>\n",
              "    <tr>\n",
              "      <th>4</th>\n",
              "      <td>2023-01-09</td>\n",
              "      <td>129.427</td>\n",
              "    </tr>\n",
              "    <tr>\n",
              "      <th>...</th>\n",
              "      <td>...</td>\n",
              "      <td>...</td>\n",
              "    </tr>\n",
              "    <tr>\n",
              "      <th>245</th>\n",
              "      <td>2023-12-22</td>\n",
              "      <td>193.600</td>\n",
              "    </tr>\n",
              "    <tr>\n",
              "      <th>246</th>\n",
              "      <td>2023-12-26</td>\n",
              "      <td>193.050</td>\n",
              "    </tr>\n",
              "    <tr>\n",
              "      <th>247</th>\n",
              "      <td>2023-12-27</td>\n",
              "      <td>193.150</td>\n",
              "    </tr>\n",
              "    <tr>\n",
              "      <th>248</th>\n",
              "      <td>2023-12-28</td>\n",
              "      <td>193.580</td>\n",
              "    </tr>\n",
              "    <tr>\n",
              "      <th>249</th>\n",
              "      <td>2023-12-29</td>\n",
              "      <td>192.530</td>\n",
              "    </tr>\n",
              "  </tbody>\n",
              "</table>\n",
              "<p>250 rows × 2 columns</p>\n",
              "</div>\n",
              "    <div class=\"colab-df-buttons\">\n",
              "\n",
              "  <div class=\"colab-df-container\">\n",
              "    <button class=\"colab-df-convert\" onclick=\"convertToInteractive('df-576b93fb-66d8-4c09-8801-34ab9c739b4f')\"\n",
              "            title=\"Convert this dataframe to an interactive table.\"\n",
              "            style=\"display:none;\">\n",
              "\n",
              "  <svg xmlns=\"http://www.w3.org/2000/svg\" height=\"24px\" viewBox=\"0 -960 960 960\">\n",
              "    <path d=\"M120-120v-720h720v720H120Zm60-500h600v-160H180v160Zm220 220h160v-160H400v160Zm0 220h160v-160H400v160ZM180-400h160v-160H180v160Zm440 0h160v-160H620v160ZM180-180h160v-160H180v160Zm440 0h160v-160H620v160Z\"/>\n",
              "  </svg>\n",
              "    </button>\n",
              "\n",
              "  <style>\n",
              "    .colab-df-container {\n",
              "      display:flex;\n",
              "      gap: 12px;\n",
              "    }\n",
              "\n",
              "    .colab-df-convert {\n",
              "      background-color: #E8F0FE;\n",
              "      border: none;\n",
              "      border-radius: 50%;\n",
              "      cursor: pointer;\n",
              "      display: none;\n",
              "      fill: #1967D2;\n",
              "      height: 32px;\n",
              "      padding: 0 0 0 0;\n",
              "      width: 32px;\n",
              "    }\n",
              "\n",
              "    .colab-df-convert:hover {\n",
              "      background-color: #E2EBFA;\n",
              "      box-shadow: 0px 1px 2px rgba(60, 64, 67, 0.3), 0px 1px 3px 1px rgba(60, 64, 67, 0.15);\n",
              "      fill: #174EA6;\n",
              "    }\n",
              "\n",
              "    .colab-df-buttons div {\n",
              "      margin-bottom: 4px;\n",
              "    }\n",
              "\n",
              "    [theme=dark] .colab-df-convert {\n",
              "      background-color: #3B4455;\n",
              "      fill: #D2E3FC;\n",
              "    }\n",
              "\n",
              "    [theme=dark] .colab-df-convert:hover {\n",
              "      background-color: #434B5C;\n",
              "      box-shadow: 0px 1px 3px 1px rgba(0, 0, 0, 0.15);\n",
              "      filter: drop-shadow(0px 1px 2px rgba(0, 0, 0, 0.3));\n",
              "      fill: #FFFFFF;\n",
              "    }\n",
              "  </style>\n",
              "\n",
              "    <script>\n",
              "      const buttonEl =\n",
              "        document.querySelector('#df-576b93fb-66d8-4c09-8801-34ab9c739b4f button.colab-df-convert');\n",
              "      buttonEl.style.display =\n",
              "        google.colab.kernel.accessAllowed ? 'block' : 'none';\n",
              "\n",
              "      async function convertToInteractive(key) {\n",
              "        const element = document.querySelector('#df-576b93fb-66d8-4c09-8801-34ab9c739b4f');\n",
              "        const dataTable =\n",
              "          await google.colab.kernel.invokeFunction('convertToInteractive',\n",
              "                                                    [key], {});\n",
              "        if (!dataTable) return;\n",
              "\n",
              "        const docLinkHtml = 'Like what you see? Visit the ' +\n",
              "          '<a target=\"_blank\" href=https://colab.research.google.com/notebooks/data_table.ipynb>data table notebook</a>'\n",
              "          + ' to learn more about interactive tables.';\n",
              "        element.innerHTML = '';\n",
              "        dataTable['output_type'] = 'display_data';\n",
              "        await google.colab.output.renderOutput(dataTable, element);\n",
              "        const docLink = document.createElement('div');\n",
              "        docLink.innerHTML = docLinkHtml;\n",
              "        element.appendChild(docLink);\n",
              "      }\n",
              "    </script>\n",
              "  </div>\n",
              "\n",
              "\n",
              "<div id=\"df-3ffa06ff-8877-41cc-927b-076564a3162a\">\n",
              "  <button class=\"colab-df-quickchart\" onclick=\"quickchart('df-3ffa06ff-8877-41cc-927b-076564a3162a')\"\n",
              "            title=\"Suggest charts\"\n",
              "            style=\"display:none;\">\n",
              "\n",
              "<svg xmlns=\"http://www.w3.org/2000/svg\" height=\"24px\"viewBox=\"0 0 24 24\"\n",
              "     width=\"24px\">\n",
              "    <g>\n",
              "        <path d=\"M19 3H5c-1.1 0-2 .9-2 2v14c0 1.1.9 2 2 2h14c1.1 0 2-.9 2-2V5c0-1.1-.9-2-2-2zM9 17H7v-7h2v7zm4 0h-2V7h2v10zm4 0h-2v-4h2v4z\"/>\n",
              "    </g>\n",
              "</svg>\n",
              "  </button>\n",
              "\n",
              "<style>\n",
              "  .colab-df-quickchart {\n",
              "      --bg-color: #E8F0FE;\n",
              "      --fill-color: #1967D2;\n",
              "      --hover-bg-color: #E2EBFA;\n",
              "      --hover-fill-color: #174EA6;\n",
              "      --disabled-fill-color: #AAA;\n",
              "      --disabled-bg-color: #DDD;\n",
              "  }\n",
              "\n",
              "  [theme=dark] .colab-df-quickchart {\n",
              "      --bg-color: #3B4455;\n",
              "      --fill-color: #D2E3FC;\n",
              "      --hover-bg-color: #434B5C;\n",
              "      --hover-fill-color: #FFFFFF;\n",
              "      --disabled-bg-color: #3B4455;\n",
              "      --disabled-fill-color: #666;\n",
              "  }\n",
              "\n",
              "  .colab-df-quickchart {\n",
              "    background-color: var(--bg-color);\n",
              "    border: none;\n",
              "    border-radius: 50%;\n",
              "    cursor: pointer;\n",
              "    display: none;\n",
              "    fill: var(--fill-color);\n",
              "    height: 32px;\n",
              "    padding: 0;\n",
              "    width: 32px;\n",
              "  }\n",
              "\n",
              "  .colab-df-quickchart:hover {\n",
              "    background-color: var(--hover-bg-color);\n",
              "    box-shadow: 0 1px 2px rgba(60, 64, 67, 0.3), 0 1px 3px 1px rgba(60, 64, 67, 0.15);\n",
              "    fill: var(--button-hover-fill-color);\n",
              "  }\n",
              "\n",
              "  .colab-df-quickchart-complete:disabled,\n",
              "  .colab-df-quickchart-complete:disabled:hover {\n",
              "    background-color: var(--disabled-bg-color);\n",
              "    fill: var(--disabled-fill-color);\n",
              "    box-shadow: none;\n",
              "  }\n",
              "\n",
              "  .colab-df-spinner {\n",
              "    border: 2px solid var(--fill-color);\n",
              "    border-color: transparent;\n",
              "    border-bottom-color: var(--fill-color);\n",
              "    animation:\n",
              "      spin 1s steps(1) infinite;\n",
              "  }\n",
              "\n",
              "  @keyframes spin {\n",
              "    0% {\n",
              "      border-color: transparent;\n",
              "      border-bottom-color: var(--fill-color);\n",
              "      border-left-color: var(--fill-color);\n",
              "    }\n",
              "    20% {\n",
              "      border-color: transparent;\n",
              "      border-left-color: var(--fill-color);\n",
              "      border-top-color: var(--fill-color);\n",
              "    }\n",
              "    30% {\n",
              "      border-color: transparent;\n",
              "      border-left-color: var(--fill-color);\n",
              "      border-top-color: var(--fill-color);\n",
              "      border-right-color: var(--fill-color);\n",
              "    }\n",
              "    40% {\n",
              "      border-color: transparent;\n",
              "      border-right-color: var(--fill-color);\n",
              "      border-top-color: var(--fill-color);\n",
              "    }\n",
              "    60% {\n",
              "      border-color: transparent;\n",
              "      border-right-color: var(--fill-color);\n",
              "    }\n",
              "    80% {\n",
              "      border-color: transparent;\n",
              "      border-right-color: var(--fill-color);\n",
              "      border-bottom-color: var(--fill-color);\n",
              "    }\n",
              "    90% {\n",
              "      border-color: transparent;\n",
              "      border-bottom-color: var(--fill-color);\n",
              "    }\n",
              "  }\n",
              "</style>\n",
              "\n",
              "  <script>\n",
              "    async function quickchart(key) {\n",
              "      const quickchartButtonEl =\n",
              "        document.querySelector('#' + key + ' button');\n",
              "      quickchartButtonEl.disabled = true;  // To prevent multiple clicks.\n",
              "      quickchartButtonEl.classList.add('colab-df-spinner');\n",
              "      try {\n",
              "        const charts = await google.colab.kernel.invokeFunction(\n",
              "            'suggestCharts', [key], {});\n",
              "      } catch (error) {\n",
              "        console.error('Error during call to suggestCharts:', error);\n",
              "      }\n",
              "      quickchartButtonEl.classList.remove('colab-df-spinner');\n",
              "      quickchartButtonEl.classList.add('colab-df-quickchart-complete');\n",
              "    }\n",
              "    (() => {\n",
              "      let quickchartButtonEl =\n",
              "        document.querySelector('#df-3ffa06ff-8877-41cc-927b-076564a3162a button');\n",
              "      quickchartButtonEl.style.display =\n",
              "        google.colab.kernel.accessAllowed ? 'block' : 'none';\n",
              "    })();\n",
              "  </script>\n",
              "</div>\n",
              "    </div>\n",
              "  </div>\n"
            ],
            "application/vnd.google.colaboratory.intrinsic+json": {
              "type": "dataframe",
              "variable_name": "prices",
              "summary": "{\n  \"name\": \"prices\",\n  \"rows\": 250,\n  \"fields\": [\n    {\n      \"column\": \"Date\",\n      \"properties\": {\n        \"dtype\": \"object\",\n        \"num_unique_values\": 250,\n        \"samples\": [\n          \"2023-07-28\",\n          \"2023-01-11\",\n          \"2023-05-23\"\n        ],\n        \"semantic_type\": \"\",\n        \"description\": \"\"\n      }\n    },\n    {\n      \"column\": \"Stock_price\",\n      \"properties\": {\n        \"dtype\": \"number\",\n        \"std\": 17.50410472478501,\n        \"min\": 124.325,\n        \"max\": 198.11,\n        \"num_unique_values\": 246,\n        \"samples\": [\n          147.88,\n          132.748,\n          170.206\n        ],\n        \"semantic_type\": \"\",\n        \"description\": \"\"\n      }\n    }\n  ]\n}"
            }
          },
          "metadata": {},
          "execution_count": 2
        }
      ],
      "source": [
        "prices.rename(columns = {'FIBBG000B9XRY4':'Stock_price'}, inplace = True)\n",
        "prices.drop(['Field'],axis=1,inplace=True)\n",
        "prices"
      ]
    },
    {
      "cell_type": "code",
      "execution_count": null,
      "id": "RyV5T2B60gun",
      "metadata": {
        "id": "RyV5T2B60gun"
      },
      "outputs": [],
      "source": [
        "data=prices"
      ]
    },
    {
      "cell_type": "code",
      "execution_count": null,
      "id": "h55TbGW1Z9uC",
      "metadata": {
        "colab": {
          "base_uri": "https://localhost:8080/"
        },
        "id": "h55TbGW1Z9uC",
        "outputId": "572ca847-6ddc-4cc1-b2d8-4dcf509dde6b"
      },
      "outputs": [
        {
          "output_type": "execute_result",
          "data": {
            "text/plain": [
              "Index(['Date', 'Stock_price'], dtype='object')"
            ]
          },
          "metadata": {},
          "execution_count": 4
        }
      ],
      "source": [
        "prices.columns"
      ]
    },
    {
      "cell_type": "code",
      "execution_count": null,
      "id": "Jqi-gCY-MSdY",
      "metadata": {
        "colab": {
          "base_uri": "https://localhost:8080/"
        },
        "id": "Jqi-gCY-MSdY",
        "outputId": "567a85fa-8a4f-4043-e65b-6f6407a19692"
      },
      "outputs": [
        {
          "output_type": "stream",
          "name": "stdout",
          "text": [
            "<class 'pandas.core.frame.DataFrame'>\n",
            "RangeIndex: 250 entries, 0 to 249\n",
            "Data columns (total 2 columns):\n",
            " #   Column       Non-Null Count  Dtype  \n",
            "---  ------       --------------  -----  \n",
            " 0   Date         250 non-null    object \n",
            " 1   Stock_price  250 non-null    float64\n",
            "dtypes: float64(1), object(1)\n",
            "memory usage: 4.0+ KB\n"
          ]
        }
      ],
      "source": [
        "prices.info()"
      ]
    },
    {
      "cell_type": "code",
      "execution_count": null,
      "id": "RXKJQSBSMdRK",
      "metadata": {
        "colab": {
          "base_uri": "https://localhost:8080/"
        },
        "id": "RXKJQSBSMdRK",
        "outputId": "6d5c48be-11de-4d65-d323-c7ba052ee0ba"
      },
      "outputs": [
        {
          "output_type": "execute_result",
          "data": {
            "text/plain": [
              "Date           0\n",
              "Stock_price    0\n",
              "dtype: int64"
            ]
          },
          "metadata": {},
          "execution_count": 6
        }
      ],
      "source": [
        "prices.isnull().sum()"
      ]
    },
    {
      "cell_type": "markdown",
      "id": "aadc3bbc-6230-4e9b-85f5-91b1cda36245",
      "metadata": {
        "id": "aadc3bbc-6230-4e9b-85f5-91b1cda36245",
        "tags": []
      },
      "source": [
        "### **PRE-SPECIFIED LOGIC**"
      ]
    },
    {
      "cell_type": "markdown",
      "id": "BDzUyfvjOU-n",
      "metadata": {
        "id": "BDzUyfvjOU-n"
      },
      "source": [
        "**Stock Trading Algorithm Overview:**\n",
        "\n",
        "This Python class, `StockTrading`, represents an algorithm for making trading decisions based on stock price movements. Here's an overview of its functionality:\n",
        "\n",
        "1. **Initialization:** The class is initialized with the historical stock prices.\n",
        "\n",
        "2. **Classify States:** Calculate the returns and classify states based on defined thresholds.\n",
        "\n",
        "3. **Find Portfolio:** Update the portfolio value based on the trading decision.\n",
        "\n",
        "4. **Update Count:** Update transition counts between states.\n",
        "\n",
        "5. **Probability Distribution:** Calculate transition probabilities based on transition counts.\n",
        "\n",
        "6. **Make Decision:** Make trading decisions based on transition probabilities.\n",
        "\n",
        "7. **Output:** Display the portfolio value, optimal buy indices, and buy dates.\n",
        "\n",
        "8. **Decision:** Execute the decision-making process for each trading day.\n"
      ]
    },
    {
      "cell_type": "code",
      "execution_count": 32,
      "id": "GJ05q52WbVVL",
      "metadata": {
        "id": "GJ05q52WbVVL"
      },
      "outputs": [],
      "source": [
        "import numpy as np\n",
        "import pandas as pd\n",
        "import seaborn as sns\n",
        "import matplotlib.pyplot as plt\n",
        "\n",
        "class StockTrading:\n",
        "    def __init__(self, prices):\n",
        "        self.prices = prices\n",
        "        self.state = [0]\n",
        "        self.portfolio = 0\n",
        "        self.buy_indices = []\n",
        "        self.count = {\n",
        "            -1: {-1: 0, 0: 0, 1: 0},\n",
        "            0: {-1: 0, 0: 0, 1: 0},\n",
        "            1: {-1: 0, 0: 0, 1: 0}\n",
        "        }\n",
        "        self.transition_probabilities = {-1: {-1: 0, 0: 0, 1: 0}, 0: {-1: 0, 0: 0, 1: 0}, 1: {-1: 0, 0: 0, 1: 0}}\n",
        "\n",
        "    def classify_states(self):\n",
        "        returns = [1]\n",
        "        close_price = list(self.prices['Stock_price'])\n",
        "        for i in range(1, len(self.prices)):\n",
        "            r = ((close_price[i] - close_price[i-1]) / close_price[i-1])\n",
        "            returns.append(r)\n",
        "            if r >= 0.01:\n",
        "                self.state.append(1)\n",
        "            elif r > -0.01:\n",
        "                self.state.append(0)\n",
        "            else:\n",
        "                self.state.append(-1)\n",
        "\n",
        "    def find_portfolio(self, curr, prev):\n",
        "        if self.state[curr] == 1 and self.state[prev] == 0:\n",
        "            self.portfolio += 1\n",
        "        elif self.state[curr] == -1 and self.state[prev] == 0:\n",
        "            self.portfolio -= 1\n",
        "\n",
        "    def update_count(self, prev_state, current_state):\n",
        "        self.count[prev_state][current_state] += 1\n",
        "\n",
        "    def probability_distribution(self):\n",
        "        for prev_state, transitions in self.count.items():\n",
        "            total_transitions = sum(transitions.values())\n",
        "            if total_transitions == 0:\n",
        "                continue\n",
        "            self.transition_probabilities[prev_state] = {\n",
        "                next_state: count / total_transitions\n",
        "                for next_state, count in transitions.items()\n",
        "            }\n",
        "\n",
        "        return self.transition_probabilities\n",
        "\n",
        "    def output(self):\n",
        "        #transition_distribution = self.probability_distribution()\n",
        "        index_names = ['Bear', 'Flat', 'Bull']\n",
        "        column_names = ['Bear', 'Flat', 'Bull']\n",
        "        matrix = []\n",
        "        for i in self.transition_probabilities :\n",
        "            temp = []\n",
        "            for j in self.transition_probabilities [i]:\n",
        "                temp.append(self.transition_probabilities [i][j])\n",
        "            matrix.append(temp)\n",
        "        \"\"\"probability_df = pd.DataFrame(matrix, index=index_names, columns=column_names)\n",
        "        plt.figure(figsize=(8, 6))\n",
        "        sns.heatmap(probability_df, annot=True, cmap='Blues', fmt=\".3f\", linewidths=.5)\n",
        "        plt.title('Probability Distribution')\n",
        "        plt.xlabel('Next State')\n",
        "        plt.ylabel('Previous State')\n",
        "        plt.show()\"\"\"\n",
        "\n",
        "        dates = []\n",
        "        for i in self.buy_indices:\n",
        "            dates.append(self.prices.iloc[i]['Date'])\n",
        "        print(\"PORTFOLIO VALUE V(N) : \", self.portfolio)\n",
        "        print(\"OPTIMAL BUY INDICES : \", self.buy_indices)\n",
        "        print(\"BUY DATES : \", dates)\n",
        "        print(\"TRANSISTION MATRIX : \")\n",
        "        for i in matrix:\n",
        "          print(i)\n",
        "\n",
        "    def make_decision(self, curr, prev):\n",
        "        prev_state = self.state[prev]\n",
        "        current_state = self.state[curr]\n",
        "        transition_probability = self.probability_distribution()\n",
        "        #print(transition_probability)\n",
        "\n",
        "        decision = 0\n",
        "        additive_state = transition_probability[prev_state].get(1, 0)\n",
        "        reductive_state = transition_probability[prev_state].get(-1, 0)\n",
        "\n",
        "        if additive_state > reductive_state:\n",
        "            decision = 1\n",
        "            self.buy_indices.append(curr)\n",
        "            self.find_portfolio(curr, prev)\n",
        "        elif additive_state < reductive_state:\n",
        "            decision = 0\n",
        "\n",
        "        self.update_count(prev_state, current_state)\n",
        "        return decision, self.portfolio\n",
        "\n",
        "    def decision(self):\n",
        "        self.classify_states()\n",
        "        for i in range(1,len(self.prices)):\n",
        "            decision, p = self.make_decision(i, i-1)\n",
        "            #print(f\"Day {i+1}: Decision: {decision}, Portfolio Value: {p}\")\n",
        "        self.output()\n"
      ]
    },
    {
      "cell_type": "code",
      "execution_count": 33,
      "id": "1LfE1fK1biST",
      "metadata": {
        "colab": {
          "base_uri": "https://localhost:8080/"
        },
        "id": "1LfE1fK1biST",
        "outputId": "10eba77e-b491-4298-a436-8f937bb34961"
      },
      "outputs": [
        {
          "output_type": "stream",
          "name": "stdout",
          "text": [
            "PORTFOLIO VALUE V(N) :  17\n",
            "OPTIMAL BUY INDICES :  [5, 6, 8, 10, 11, 12, 15, 16, 17, 18, 19, 20, 21, 22, 23, 24, 25, 26, 27, 28, 30, 32, 33, 34, 35, 36, 37, 38, 39, 40, 41, 44, 45, 46, 47, 50, 52, 54, 55, 56, 57, 58, 59, 60, 61, 62, 63, 64, 65, 66, 67, 68, 69, 70, 71, 72, 73, 74, 75, 76, 77, 78, 79, 80, 81, 82, 83, 84, 85, 86, 87, 88, 89, 90, 91, 92, 93, 94, 95, 96, 97, 98, 99, 100, 101, 102, 103, 104, 105, 106, 107, 108, 109, 110, 111, 112, 113, 114, 115, 116, 117, 118, 119, 120, 121, 122, 123, 124, 125, 126, 127, 128, 129, 130, 131, 132, 133, 134, 135, 136, 137, 138, 139, 140, 141, 142, 143, 144, 145, 146, 147, 148, 149, 150, 151, 152, 153, 154, 155, 156, 157, 158, 159, 160, 161, 162, 163, 164, 165, 166, 167, 168, 169, 170, 171, 172, 173, 174, 176, 177, 178, 179, 181, 182, 183, 185, 186, 187, 188, 189, 190, 191, 192, 193, 194, 195, 196, 198, 199, 200, 201, 203, 204, 207, 208, 209, 210, 211, 212, 213, 214, 215, 216, 217, 218, 219, 220, 221, 222, 223, 224, 225, 226, 227, 228, 229, 230, 231, 232, 233, 234, 235, 236, 238, 239, 240, 241, 242, 243, 245, 246, 247, 248, 249]\n",
            "BUY DATES :  ['2023-01-10', '2023-01-11', '2023-01-13', '2023-01-18', '2023-01-19', '2023-01-20', '2023-01-25', '2023-01-26', '2023-01-27', '2023-01-30', '2023-01-31', '2023-02-01', '2023-02-02', '2023-02-03', '2023-02-06', '2023-02-07', '2023-02-08', '2023-02-09', '2023-02-10', '2023-02-13', '2023-02-15', '2023-02-17', '2023-02-21', '2023-02-22', '2023-02-23', '2023-02-24', '2023-02-27', '2023-02-28', '2023-03-01', '2023-03-02', '2023-03-03', '2023-03-08', '2023-03-09', '2023-03-10', '2023-03-13', '2023-03-16', '2023-03-20', '2023-03-22', '2023-03-23', '2023-03-24', '2023-03-27', '2023-03-28', '2023-03-29', '2023-03-30', '2023-03-31', '2023-04-03', '2023-04-04', '2023-04-05', '2023-04-06', '2023-04-10', '2023-04-11', '2023-04-12', '2023-04-13', '2023-04-14', '2023-04-17', '2023-04-18', '2023-04-19', '2023-04-20', '2023-04-21', '2023-04-24', '2023-04-25', '2023-04-26', '2023-04-27', '2023-04-28', '2023-05-01', '2023-05-02', '2023-05-03', '2023-05-04', '2023-05-05', '2023-05-08', '2023-05-09', '2023-05-10', '2023-05-11', '2023-05-12', '2023-05-15', '2023-05-16', '2023-05-17', '2023-05-18', '2023-05-19', '2023-05-22', '2023-05-23', '2023-05-24', '2023-05-25', '2023-05-26', '2023-05-30', '2023-05-31', '2023-06-01', '2023-06-02', '2023-06-05', '2023-06-06', '2023-06-07', '2023-06-08', '2023-06-09', '2023-06-12', '2023-06-13', '2023-06-14', '2023-06-15', '2023-06-16', '2023-06-20', '2023-06-21', '2023-06-22', '2023-06-23', '2023-06-26', '2023-06-27', '2023-06-28', '2023-06-29', '2023-06-30', '2023-07-03', '2023-07-05', '2023-07-06', '2023-07-07', '2023-07-10', '2023-07-11', '2023-07-12', '2023-07-13', '2023-07-14', '2023-07-17', '2023-07-18', '2023-07-19', '2023-07-20', '2023-07-21', '2023-07-24', '2023-07-25', '2023-07-26', '2023-07-27', '2023-07-28', '2023-07-31', '2023-08-01', '2023-08-02', '2023-08-03', '2023-08-04', '2023-08-07', '2023-08-08', '2023-08-09', '2023-08-10', '2023-08-11', '2023-08-14', '2023-08-15', '2023-08-16', '2023-08-17', '2023-08-18', '2023-08-21', '2023-08-22', '2023-08-23', '2023-08-24', '2023-08-25', '2023-08-28', '2023-08-29', '2023-08-30', '2023-08-31', '2023-09-01', '2023-09-05', '2023-09-06', '2023-09-07', '2023-09-08', '2023-09-11', '2023-09-12', '2023-09-13', '2023-09-15', '2023-09-18', '2023-09-19', '2023-09-20', '2023-09-22', '2023-09-25', '2023-09-26', '2023-09-28', '2023-09-29', '2023-10-02', '2023-10-03', '2023-10-04', '2023-10-05', '2023-10-06', '2023-10-09', '2023-10-10', '2023-10-11', '2023-10-12', '2023-10-13', '2023-10-17', '2023-10-18', '2023-10-19', '2023-10-20', '2023-10-24', '2023-10-25', '2023-10-30', '2023-10-31', '2023-11-01', '2023-11-02', '2023-11-03', '2023-11-06', '2023-11-07', '2023-11-08', '2023-11-09', '2023-11-10', '2023-11-13', '2023-11-14', '2023-11-15', '2023-11-16', '2023-11-17', '2023-11-20', '2023-11-21', '2023-11-22', '2023-11-24', '2023-11-27', '2023-11-28', '2023-11-29', '2023-11-30', '2023-12-01', '2023-12-04', '2023-12-05', '2023-12-06', '2023-12-07', '2023-12-08', '2023-12-11', '2023-12-13', '2023-12-14', '2023-12-15', '2023-12-18', '2023-12-19', '2023-12-20', '2023-12-22', '2023-12-26', '2023-12-27', '2023-12-28', '2023-12-29']\n",
            "TRANSISTION MATRIX : \n",
            "[0.14285714285714285, 0.7428571428571429, 0.11428571428571428]\n",
            "[0.1464968152866242, 0.5923566878980892, 0.2611464968152866]\n",
            "[0.125, 0.6785714285714286, 0.19642857142857142]\n"
          ]
        }
      ],
      "source": [
        "portfolio = StockTrading(prices)\n",
        "portfolio.decision()"
      ]
    },
    {
      "cell_type": "code",
      "source": [],
      "metadata": {
        "id": "NYdBUY2vPPk9"
      },
      "id": "NYdBUY2vPPk9",
      "execution_count": null,
      "outputs": []
    }
  ],
  "metadata": {
    "colab": {
      "provenance": []
    },
    "kernelspec": {
      "display_name": "Python 3.9",
      "language": "python",
      "name": "python3"
    },
    "language_info": {
      "codemirror_mode": {
        "name": "ipython",
        "version": 3
      },
      "file_extension": ".py",
      "mimetype": "text/x-python",
      "name": "python",
      "nbconvert_exporter": "python",
      "pygments_lexer": "ipython3",
      "version": "3.9.12"
    }
  },
  "nbformat": 4,
  "nbformat_minor": 5
}